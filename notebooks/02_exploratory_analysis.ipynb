{
 "cells": [
  {
   "cell_type": "markdown",
   "id": "2f3e6fa4-0202-48e8-9343-03effa0b2960",
   "metadata": {},
   "source": [
    "### 1. Import Libraries and Dataset"
   ]
  },
  {
   "cell_type": "code",
   "execution_count": 1,
   "id": "59f32fad-d696-4adc-b3ba-7cfbe3ce8630",
   "metadata": {},
   "outputs": [],
   "source": [
    "# Import visualization libraries\n",
    "\n",
    "import plotly.express as px # simple and interactive plots\n",
    "import plotly.graph_objects as go # customizable and advanced visualizations\n",
    "import plotly.figure_factory as ff # complex and specialized visualizations\n",
    "import plotly.subplots as make_subplots # function to make subplots in Plotly, make arranging multiple plots together available\n",
    "\n",
    "import matplotlib.pyplot as plt # traditional 2D plotting\n",
    "%matplotlib inline\n",
    "# display plots directly in Jupyter notebook\n",
    "import seaborn as sns # attractive statistical graphics (built on top of Matplotlib)"
   ]
  },
  {
   "cell_type": "code",
   "execution_count": 2,
   "id": "e4a30044-3f82-41f1-8888-3d5e1f19d8f7",
   "metadata": {},
   "outputs": [],
   "source": [
    "# Import data processing libraries\n",
    "\n",
    "import numpy as np\n",
    "import pandas as pd"
   ]
  },
  {
   "cell_type": "code",
   "execution_count": 3,
   "id": "b41a4b4c-3c6e-43c9-8d08-dd553f8803df",
   "metadata": {},
   "outputs": [
    {
     "name": "stdout",
     "output_type": "stream",
     "text": [
      "Requirement already satisfied: ydata-profiling in /opt/anaconda3/lib/python3.12/site-packages (4.10.0)\n",
      "Requirement already satisfied: scipy<1.14,>=1.4.1 in /opt/anaconda3/lib/python3.12/site-packages (from ydata-profiling) (1.13.1)\n",
      "Requirement already satisfied: pandas!=1.4.0,<3,>1.1 in /opt/anaconda3/lib/python3.12/site-packages (from ydata-profiling) (2.2.2)\n",
      "Requirement already satisfied: matplotlib<3.10,>=3.5 in /opt/anaconda3/lib/python3.12/site-packages (from ydata-profiling) (3.8.4)\n",
      "Requirement already satisfied: pydantic>=2 in /opt/anaconda3/lib/python3.12/site-packages (from ydata-profiling) (2.5.3)\n",
      "Requirement already satisfied: PyYAML<6.1,>=5.0.0 in /opt/anaconda3/lib/python3.12/site-packages (from ydata-profiling) (6.0.1)\n",
      "Requirement already satisfied: jinja2<3.2,>=2.11.1 in /opt/anaconda3/lib/python3.12/site-packages (from ydata-profiling) (3.1.4)\n",
      "Requirement already satisfied: visions<0.7.7,>=0.7.5 in /opt/anaconda3/lib/python3.12/site-packages (from visions[type_image_path]<0.7.7,>=0.7.5->ydata-profiling) (0.7.6)\n",
      "Requirement already satisfied: numpy<2.2,>=1.16.0 in /opt/anaconda3/lib/python3.12/site-packages (from ydata-profiling) (1.26.4)\n",
      "Requirement already satisfied: htmlmin==0.1.12 in /opt/anaconda3/lib/python3.12/site-packages (from ydata-profiling) (0.1.12)\n",
      "Requirement already satisfied: phik<0.13,>=0.11.1 in /opt/anaconda3/lib/python3.12/site-packages (from ydata-profiling) (0.12.4)\n",
      "Requirement already satisfied: requests<3,>=2.24.0 in /opt/anaconda3/lib/python3.12/site-packages (from ydata-profiling) (2.32.2)\n",
      "Requirement already satisfied: tqdm<5,>=4.48.2 in /opt/anaconda3/lib/python3.12/site-packages (from ydata-profiling) (4.66.4)\n",
      "Requirement already satisfied: seaborn<0.14,>=0.10.1 in /opt/anaconda3/lib/python3.12/site-packages (from ydata-profiling) (0.13.2)\n",
      "Requirement already satisfied: multimethod<2,>=1.4 in /opt/anaconda3/lib/python3.12/site-packages (from ydata-profiling) (1.12)\n",
      "Requirement already satisfied: statsmodels<1,>=0.13.2 in /opt/anaconda3/lib/python3.12/site-packages (from ydata-profiling) (0.14.2)\n",
      "Requirement already satisfied: typeguard<5,>=3 in /opt/anaconda3/lib/python3.12/site-packages (from ydata-profiling) (4.3.0)\n",
      "Requirement already satisfied: imagehash==4.3.1 in /opt/anaconda3/lib/python3.12/site-packages (from ydata-profiling) (4.3.1)\n",
      "Requirement already satisfied: wordcloud>=1.9.3 in /opt/anaconda3/lib/python3.12/site-packages (from ydata-profiling) (1.9.3)\n",
      "Requirement already satisfied: dacite>=1.8 in /opt/anaconda3/lib/python3.12/site-packages (from ydata-profiling) (1.8.1)\n",
      "Requirement already satisfied: numba<1,>=0.56.0 in /opt/anaconda3/lib/python3.12/site-packages (from ydata-profiling) (0.59.1)\n",
      "Requirement already satisfied: PyWavelets in /opt/anaconda3/lib/python3.12/site-packages (from imagehash==4.3.1->ydata-profiling) (1.5.0)\n",
      "Requirement already satisfied: pillow in /opt/anaconda3/lib/python3.12/site-packages (from imagehash==4.3.1->ydata-profiling) (10.3.0)\n",
      "Requirement already satisfied: MarkupSafe>=2.0 in /opt/anaconda3/lib/python3.12/site-packages (from jinja2<3.2,>=2.11.1->ydata-profiling) (2.1.3)\n",
      "Requirement already satisfied: contourpy>=1.0.1 in /opt/anaconda3/lib/python3.12/site-packages (from matplotlib<3.10,>=3.5->ydata-profiling) (1.2.0)\n",
      "Requirement already satisfied: cycler>=0.10 in /opt/anaconda3/lib/python3.12/site-packages (from matplotlib<3.10,>=3.5->ydata-profiling) (0.11.0)\n",
      "Requirement already satisfied: fonttools>=4.22.0 in /opt/anaconda3/lib/python3.12/site-packages (from matplotlib<3.10,>=3.5->ydata-profiling) (4.51.0)\n",
      "Requirement already satisfied: kiwisolver>=1.3.1 in /opt/anaconda3/lib/python3.12/site-packages (from matplotlib<3.10,>=3.5->ydata-profiling) (1.4.4)\n",
      "Requirement already satisfied: packaging>=20.0 in /opt/anaconda3/lib/python3.12/site-packages (from matplotlib<3.10,>=3.5->ydata-profiling) (23.2)\n",
      "Requirement already satisfied: pyparsing>=2.3.1 in /opt/anaconda3/lib/python3.12/site-packages (from matplotlib<3.10,>=3.5->ydata-profiling) (3.0.9)\n",
      "Requirement already satisfied: python-dateutil>=2.7 in /opt/anaconda3/lib/python3.12/site-packages (from matplotlib<3.10,>=3.5->ydata-profiling) (2.9.0.post0)\n",
      "Requirement already satisfied: llvmlite<0.43,>=0.42.0dev0 in /opt/anaconda3/lib/python3.12/site-packages (from numba<1,>=0.56.0->ydata-profiling) (0.42.0)\n",
      "Requirement already satisfied: pytz>=2020.1 in /opt/anaconda3/lib/python3.12/site-packages (from pandas!=1.4.0,<3,>1.1->ydata-profiling) (2024.1)\n",
      "Requirement already satisfied: tzdata>=2022.7 in /opt/anaconda3/lib/python3.12/site-packages (from pandas!=1.4.0,<3,>1.1->ydata-profiling) (2023.3)\n",
      "Requirement already satisfied: joblib>=0.14.1 in /opt/anaconda3/lib/python3.12/site-packages (from phik<0.13,>=0.11.1->ydata-profiling) (1.4.2)\n",
      "Requirement already satisfied: annotated-types>=0.4.0 in /opt/anaconda3/lib/python3.12/site-packages (from pydantic>=2->ydata-profiling) (0.6.0)\n",
      "Requirement already satisfied: pydantic-core==2.14.6 in /opt/anaconda3/lib/python3.12/site-packages (from pydantic>=2->ydata-profiling) (2.14.6)\n",
      "Requirement already satisfied: typing-extensions>=4.6.1 in /opt/anaconda3/lib/python3.12/site-packages (from pydantic>=2->ydata-profiling) (4.11.0)\n",
      "Requirement already satisfied: charset-normalizer<4,>=2 in /opt/anaconda3/lib/python3.12/site-packages (from requests<3,>=2.24.0->ydata-profiling) (2.0.4)\n",
      "Requirement already satisfied: idna<4,>=2.5 in /opt/anaconda3/lib/python3.12/site-packages (from requests<3,>=2.24.0->ydata-profiling) (3.7)\n",
      "Requirement already satisfied: urllib3<3,>=1.21.1 in /opt/anaconda3/lib/python3.12/site-packages (from requests<3,>=2.24.0->ydata-profiling) (2.2.2)\n",
      "Requirement already satisfied: certifi>=2017.4.17 in /opt/anaconda3/lib/python3.12/site-packages (from requests<3,>=2.24.0->ydata-profiling) (2024.8.30)\n",
      "Requirement already satisfied: patsy>=0.5.6 in /opt/anaconda3/lib/python3.12/site-packages (from statsmodels<1,>=0.13.2->ydata-profiling) (0.5.6)\n",
      "Requirement already satisfied: attrs>=19.3.0 in /opt/anaconda3/lib/python3.12/site-packages (from visions<0.7.7,>=0.7.5->visions[type_image_path]<0.7.7,>=0.7.5->ydata-profiling) (23.1.0)\n",
      "Requirement already satisfied: networkx>=2.4 in /opt/anaconda3/lib/python3.12/site-packages (from visions<0.7.7,>=0.7.5->visions[type_image_path]<0.7.7,>=0.7.5->ydata-profiling) (3.2.1)\n",
      "Requirement already satisfied: six in /opt/anaconda3/lib/python3.12/site-packages (from patsy>=0.5.6->statsmodels<1,>=0.13.2->ydata-profiling) (1.16.0)\n"
     ]
    }
   ],
   "source": [
    "# Import EDA supporting library\n",
    "\n",
    "!pip install ydata-profiling\n",
    "from ydata_profiling import ProfileReport"
   ]
  },
  {
   "cell_type": "code",
   "execution_count": 4,
   "id": "b4b2cb98-6a50-49db-bfaf-40d11f283899",
   "metadata": {},
   "outputs": [],
   "source": [
    "# Import dataset\n",
    "\n",
    "df = pd.read_csv('/Users/ellia.hsieh/Documents/GitHub/strategic-partner-identification/data/02-processed/processed-sleep-apnea.csv')"
   ]
  },
  {
   "cell_type": "markdown",
   "id": "a7c6f926-25f4-4791-bc55-64b7de9191de",
   "metadata": {},
   "source": [
    "### 2. Data Preprocessing"
   ]
  },
  {
   "cell_type": "code",
   "execution_count": 5,
   "id": "1060f992-7a42-4b03-823f-62347ac3c18d",
   "metadata": {},
   "outputs": [
    {
     "name": "stdout",
     "output_type": "stream",
     "text": [
      "<class 'pandas.core.frame.DataFrame'>\n",
      "RangeIndex: 1717 entries, 0 to 1716\n",
      "Data columns (total 24 columns):\n",
      " #   Column                      Non-Null Count  Dtype  \n",
      "---  ------                      --------------  -----  \n",
      " 0   NCT Number                  1717 non-null   object \n",
      " 1   Study Title                 1717 non-null   object \n",
      " 2   Study URL                   1717 non-null   object \n",
      " 3   Study Status                1717 non-null   object \n",
      " 4   Brief Summary               1717 non-null   object \n",
      " 5   Study Results               1717 non-null   bool   \n",
      " 6   Conditions                  1717 non-null   object \n",
      " 7   Interventions               1717 non-null   object \n",
      " 8   Primary Outcome Measures    1717 non-null   object \n",
      " 9   Secondary Outcome Measures  1337 non-null   object \n",
      " 10  Other Outcome Measures      156 non-null    object \n",
      " 11  Sponsor                     1717 non-null   object \n",
      " 12  Collaborators               558 non-null    object \n",
      " 13  Sex                         1717 non-null   object \n",
      " 14  Age                         0 non-null      float64\n",
      " 15  Phases                      423 non-null    object \n",
      " 16  Enrollment                  1717 non-null   int64  \n",
      " 17  Study Type                  1717 non-null   object \n",
      " 18  Start Date                  1717 non-null   object \n",
      " 19  Completion Date             1717 non-null   object \n",
      " 20  Last Update Posted          1717 non-null   object \n",
      " 21  Locations                   1604 non-null   object \n",
      " 22  Countries                   872 non-null    object \n",
      " 23  Intervention Types          1717 non-null   object \n",
      "dtypes: bool(1), float64(1), int64(1), object(21)\n",
      "memory usage: 310.3+ KB\n"
     ]
    }
   ],
   "source": [
    "df.info()"
   ]
  },
  {
   "cell_type": "code",
   "execution_count": 6,
   "id": "6803ba7b-f379-4752-b433-d5ed6bb373c8",
   "metadata": {},
   "outputs": [],
   "source": [
    "# Readjust data type\n",
    "\n",
    "df['Study Status'] = df['Study Status'].astype('category')\n",
    "df['Study Results'] = df['Study Results'].map({'YES': True, 'NO': False})\n",
    "df['Enrollment'] = df['Enrollment'].fillna(0).astype(int)\n",
    "df['Start Date'] = pd.to_datetime(df['Start Date'], errors='coerce')\n",
    "df['Completion Date'] = pd.to_datetime(df['Completion Date'], errors='coerce')\n",
    "df['Last Update Posted'] = pd.to_datetime(df['Last Update Posted'], errors='coerce')\n",
    "df['Sex'] = df['Sex'].astype('category')\n",
    "df['Age'] = pd.to_numeric(df['Age'], errors='coerce')\n",
    "df['Phases'] = df['Phases'].astype('category')\n",
    "df['Study Type'] = df['Study Type'].astype('category')"
   ]
  },
  {
   "cell_type": "code",
   "execution_count": 7,
   "id": "27b6dffd-91ae-477b-91d6-84bcf8cc5484",
   "metadata": {},
   "outputs": [
    {
     "data": {
      "text/plain": [
       "NCT Number                            object\n",
       "Study Title                           object\n",
       "Study URL                             object\n",
       "Study Status                        category\n",
       "Brief Summary                         object\n",
       "Study Results                         object\n",
       "Conditions                            object\n",
       "Interventions                         object\n",
       "Primary Outcome Measures              object\n",
       "Secondary Outcome Measures            object\n",
       "Other Outcome Measures                object\n",
       "Sponsor                               object\n",
       "Collaborators                         object\n",
       "Sex                                 category\n",
       "Age                                  float64\n",
       "Phases                              category\n",
       "Enrollment                             int64\n",
       "Study Type                          category\n",
       "Start Date                    datetime64[ns]\n",
       "Completion Date               datetime64[ns]\n",
       "Last Update Posted            datetime64[ns]\n",
       "Locations                             object\n",
       "Countries                             object\n",
       "Intervention Types                    object\n",
       "dtype: object"
      ]
     },
     "execution_count": 7,
     "metadata": {},
     "output_type": "execute_result"
    }
   ],
   "source": [
    "df.dtypes"
   ]
  },
  {
   "cell_type": "markdown",
   "id": "e6a23697-b5c1-43d9-ab10-f2a4d63dea69",
   "metadata": {},
   "source": [
    "### 3. Univariate Analysis"
   ]
  },
  {
   "cell_type": "code",
   "execution_count": null,
   "id": "2df8588d-31ad-4607-adb0-9a85da0f09d0",
   "metadata": {},
   "outputs": [],
   "source": []
  }
 ],
 "metadata": {
  "kernelspec": {
   "display_name": "Python 3 (ipykernel)",
   "language": "python",
   "name": "python3"
  },
  "language_info": {
   "codemirror_mode": {
    "name": "ipython",
    "version": 3
   },
   "file_extension": ".py",
   "mimetype": "text/x-python",
   "name": "python",
   "nbconvert_exporter": "python",
   "pygments_lexer": "ipython3",
   "version": "3.12.4"
  }
 },
 "nbformat": 4,
 "nbformat_minor": 5
}
