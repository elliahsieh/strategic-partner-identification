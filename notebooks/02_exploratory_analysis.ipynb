{
 "cells": [
  {
   "cell_type": "markdown",
   "id": "2f3e6fa4-0202-48e8-9343-03effa0b2960",
   "metadata": {},
   "source": [
    "### 1. Import Libraries and Dataset"
   ]
  },
  {
   "cell_type": "code",
   "execution_count": 68,
   "id": "59f32fad-d696-4adc-b3ba-7cfbe3ce8630",
   "metadata": {},
   "outputs": [],
   "source": [
    "# Import visualization libraries\n",
    "\n",
    "import plotly.express as px # simple and interactive plots\n",
    "import plotly.graph_objects as go # customizable and advanced visualizations\n",
    "import plotly.figure_factory as ff # complex and specialized visualizations\n",
    "import plotly.subplots as make_subplots # function to make subplots in Plotly, make arranging multiple plots together available\n",
    "\n",
    "import matplotlib.pyplot as plt # traditional 2D plotting\n",
    "%matplotlib inline\n",
    "# display plots directly in Jupyter notebook\n",
    "import seaborn as sns # attractive statistical graphics (built on top of Matplotlib)"
   ]
  },
  {
   "cell_type": "code",
   "execution_count": 69,
   "id": "e4a30044-3f82-41f1-8888-3d5e1f19d8f7",
   "metadata": {},
   "outputs": [],
   "source": [
    "# Import data processing libraries\n",
    "\n",
    "import numpy as np\n",
    "import pandas as pd"
   ]
  },
  {
   "cell_type": "code",
   "execution_count": 70,
   "id": "b41a4b4c-3c6e-43c9-8d08-dd553f8803df",
   "metadata": {},
   "outputs": [
    {
     "name": "stdout",
     "output_type": "stream",
     "text": [
      "Requirement already satisfied: ydata-profiling in /opt/anaconda3/lib/python3.12/site-packages (4.10.0)\n",
      "Requirement already satisfied: scipy<1.14,>=1.4.1 in /opt/anaconda3/lib/python3.12/site-packages (from ydata-profiling) (1.13.1)\n",
      "Requirement already satisfied: pandas!=1.4.0,<3,>1.1 in /opt/anaconda3/lib/python3.12/site-packages (from ydata-profiling) (2.2.2)\n",
      "Requirement already satisfied: matplotlib<3.10,>=3.5 in /opt/anaconda3/lib/python3.12/site-packages (from ydata-profiling) (3.8.4)\n",
      "Requirement already satisfied: pydantic>=2 in /opt/anaconda3/lib/python3.12/site-packages (from ydata-profiling) (2.5.3)\n",
      "Requirement already satisfied: PyYAML<6.1,>=5.0.0 in /opt/anaconda3/lib/python3.12/site-packages (from ydata-profiling) (6.0.1)\n",
      "Requirement already satisfied: jinja2<3.2,>=2.11.1 in /opt/anaconda3/lib/python3.12/site-packages (from ydata-profiling) (3.1.4)\n",
      "Requirement already satisfied: visions<0.7.7,>=0.7.5 in /opt/anaconda3/lib/python3.12/site-packages (from visions[type_image_path]<0.7.7,>=0.7.5->ydata-profiling) (0.7.6)\n",
      "Requirement already satisfied: numpy<2.2,>=1.16.0 in /opt/anaconda3/lib/python3.12/site-packages (from ydata-profiling) (1.26.4)\n",
      "Requirement already satisfied: htmlmin==0.1.12 in /opt/anaconda3/lib/python3.12/site-packages (from ydata-profiling) (0.1.12)\n",
      "Requirement already satisfied: phik<0.13,>=0.11.1 in /opt/anaconda3/lib/python3.12/site-packages (from ydata-profiling) (0.12.4)\n",
      "Requirement already satisfied: requests<3,>=2.24.0 in /opt/anaconda3/lib/python3.12/site-packages (from ydata-profiling) (2.32.2)\n",
      "Requirement already satisfied: tqdm<5,>=4.48.2 in /opt/anaconda3/lib/python3.12/site-packages (from ydata-profiling) (4.66.4)\n",
      "Requirement already satisfied: seaborn<0.14,>=0.10.1 in /opt/anaconda3/lib/python3.12/site-packages (from ydata-profiling) (0.13.2)\n",
      "Requirement already satisfied: multimethod<2,>=1.4 in /opt/anaconda3/lib/python3.12/site-packages (from ydata-profiling) (1.12)\n",
      "Requirement already satisfied: statsmodels<1,>=0.13.2 in /opt/anaconda3/lib/python3.12/site-packages (from ydata-profiling) (0.14.2)\n",
      "Requirement already satisfied: typeguard<5,>=3 in /opt/anaconda3/lib/python3.12/site-packages (from ydata-profiling) (4.3.0)\n",
      "Requirement already satisfied: imagehash==4.3.1 in /opt/anaconda3/lib/python3.12/site-packages (from ydata-profiling) (4.3.1)\n",
      "Requirement already satisfied: wordcloud>=1.9.3 in /opt/anaconda3/lib/python3.12/site-packages (from ydata-profiling) (1.9.3)\n",
      "Requirement already satisfied: dacite>=1.8 in /opt/anaconda3/lib/python3.12/site-packages (from ydata-profiling) (1.8.1)\n",
      "Requirement already satisfied: numba<1,>=0.56.0 in /opt/anaconda3/lib/python3.12/site-packages (from ydata-profiling) (0.59.1)\n",
      "Requirement already satisfied: PyWavelets in /opt/anaconda3/lib/python3.12/site-packages (from imagehash==4.3.1->ydata-profiling) (1.5.0)\n",
      "Requirement already satisfied: pillow in /opt/anaconda3/lib/python3.12/site-packages (from imagehash==4.3.1->ydata-profiling) (10.3.0)\n",
      "Requirement already satisfied: MarkupSafe>=2.0 in /opt/anaconda3/lib/python3.12/site-packages (from jinja2<3.2,>=2.11.1->ydata-profiling) (2.1.3)\n",
      "Requirement already satisfied: contourpy>=1.0.1 in /opt/anaconda3/lib/python3.12/site-packages (from matplotlib<3.10,>=3.5->ydata-profiling) (1.2.0)\n",
      "Requirement already satisfied: cycler>=0.10 in /opt/anaconda3/lib/python3.12/site-packages (from matplotlib<3.10,>=3.5->ydata-profiling) (0.11.0)\n",
      "Requirement already satisfied: fonttools>=4.22.0 in /opt/anaconda3/lib/python3.12/site-packages (from matplotlib<3.10,>=3.5->ydata-profiling) (4.51.0)\n",
      "Requirement already satisfied: kiwisolver>=1.3.1 in /opt/anaconda3/lib/python3.12/site-packages (from matplotlib<3.10,>=3.5->ydata-profiling) (1.4.4)\n",
      "Requirement already satisfied: packaging>=20.0 in /opt/anaconda3/lib/python3.12/site-packages (from matplotlib<3.10,>=3.5->ydata-profiling) (23.2)\n",
      "Requirement already satisfied: pyparsing>=2.3.1 in /opt/anaconda3/lib/python3.12/site-packages (from matplotlib<3.10,>=3.5->ydata-profiling) (3.0.9)\n",
      "Requirement already satisfied: python-dateutil>=2.7 in /opt/anaconda3/lib/python3.12/site-packages (from matplotlib<3.10,>=3.5->ydata-profiling) (2.9.0.post0)\n",
      "Requirement already satisfied: llvmlite<0.43,>=0.42.0dev0 in /opt/anaconda3/lib/python3.12/site-packages (from numba<1,>=0.56.0->ydata-profiling) (0.42.0)\n",
      "Requirement already satisfied: pytz>=2020.1 in /opt/anaconda3/lib/python3.12/site-packages (from pandas!=1.4.0,<3,>1.1->ydata-profiling) (2024.1)\n",
      "Requirement already satisfied: tzdata>=2022.7 in /opt/anaconda3/lib/python3.12/site-packages (from pandas!=1.4.0,<3,>1.1->ydata-profiling) (2023.3)\n",
      "Requirement already satisfied: joblib>=0.14.1 in /opt/anaconda3/lib/python3.12/site-packages (from phik<0.13,>=0.11.1->ydata-profiling) (1.4.2)\n",
      "Requirement already satisfied: annotated-types>=0.4.0 in /opt/anaconda3/lib/python3.12/site-packages (from pydantic>=2->ydata-profiling) (0.6.0)\n",
      "Requirement already satisfied: pydantic-core==2.14.6 in /opt/anaconda3/lib/python3.12/site-packages (from pydantic>=2->ydata-profiling) (2.14.6)\n",
      "Requirement already satisfied: typing-extensions>=4.6.1 in /opt/anaconda3/lib/python3.12/site-packages (from pydantic>=2->ydata-profiling) (4.11.0)\n",
      "Requirement already satisfied: charset-normalizer<4,>=2 in /opt/anaconda3/lib/python3.12/site-packages (from requests<3,>=2.24.0->ydata-profiling) (2.0.4)\n",
      "Requirement already satisfied: idna<4,>=2.5 in /opt/anaconda3/lib/python3.12/site-packages (from requests<3,>=2.24.0->ydata-profiling) (3.7)\n",
      "Requirement already satisfied: urllib3<3,>=1.21.1 in /opt/anaconda3/lib/python3.12/site-packages (from requests<3,>=2.24.0->ydata-profiling) (2.2.2)\n",
      "Requirement already satisfied: certifi>=2017.4.17 in /opt/anaconda3/lib/python3.12/site-packages (from requests<3,>=2.24.0->ydata-profiling) (2024.8.30)\n",
      "Requirement already satisfied: patsy>=0.5.6 in /opt/anaconda3/lib/python3.12/site-packages (from statsmodels<1,>=0.13.2->ydata-profiling) (0.5.6)\n",
      "Requirement already satisfied: attrs>=19.3.0 in /opt/anaconda3/lib/python3.12/site-packages (from visions<0.7.7,>=0.7.5->visions[type_image_path]<0.7.7,>=0.7.5->ydata-profiling) (23.1.0)\n",
      "Requirement already satisfied: networkx>=2.4 in /opt/anaconda3/lib/python3.12/site-packages (from visions<0.7.7,>=0.7.5->visions[type_image_path]<0.7.7,>=0.7.5->ydata-profiling) (3.2.1)\n",
      "Requirement already satisfied: six in /opt/anaconda3/lib/python3.12/site-packages (from patsy>=0.5.6->statsmodels<1,>=0.13.2->ydata-profiling) (1.16.0)\n"
     ]
    }
   ],
   "source": [
    "# Import EDA supporting library\n",
    "\n",
    "!pip install ydata-profiling\n",
    "from ydata_profiling import ProfileReport"
   ]
  },
  {
   "cell_type": "code",
   "execution_count": 71,
   "id": "b4b2cb98-6a50-49db-bfaf-40d11f283899",
   "metadata": {},
   "outputs": [],
   "source": [
    "# Import dataset\n",
    "\n",
    "df = pd.read_csv('/Users/ellia.hsieh/Documents/GitHub/strategic-partner-identification/data/02-processed/processed-sleep-apnea.csv')"
   ]
  },
  {
   "cell_type": "markdown",
   "id": "a7c6f926-25f4-4791-bc55-64b7de9191de",
   "metadata": {},
   "source": [
    "### 2. Data Preprocessing"
   ]
  },
  {
   "cell_type": "code",
   "execution_count": 72,
   "id": "1060f992-7a42-4b03-823f-62347ac3c18d",
   "metadata": {},
   "outputs": [
    {
     "name": "stdout",
     "output_type": "stream",
     "text": [
      "<class 'pandas.core.frame.DataFrame'>\n",
      "RangeIndex: 1717 entries, 0 to 1716\n",
      "Data columns (total 25 columns):\n",
      " #   Column                      Non-Null Count  Dtype \n",
      "---  ------                      --------------  ----- \n",
      " 0   NCT Number                  1717 non-null   object\n",
      " 1   Study Title                 1717 non-null   object\n",
      " 2   Study URL                   1717 non-null   object\n",
      " 3   Study Status                1717 non-null   object\n",
      " 4   Brief Summary               1717 non-null   object\n",
      " 5   Study Results               1717 non-null   bool  \n",
      " 6   Conditions                  1717 non-null   object\n",
      " 7   Interventions               1717 non-null   object\n",
      " 8   Intervention Types          1717 non-null   object\n",
      " 9   Primary Outcome Measures    1717 non-null   object\n",
      " 10  Secondary Outcome Measures  1337 non-null   object\n",
      " 11  Other Outcome Measures      156 non-null    object\n",
      " 12  Combined Outcome Measures   1717 non-null   object\n",
      " 13  Sponsor                     1717 non-null   object\n",
      " 14  Collaborators               558 non-null    object\n",
      " 15  Sex                         1717 non-null   object\n",
      " 16  Age                         1717 non-null   object\n",
      " 17  Phases                      423 non-null    object\n",
      " 18  Enrollment                  1717 non-null   int64 \n",
      " 19  Study Type                  1717 non-null   object\n",
      " 20  Start Date                  1717 non-null   object\n",
      " 21  Completion Date             1717 non-null   object\n",
      " 22  Last Update Posted          1717 non-null   object\n",
      " 23  Locations                   1604 non-null   object\n",
      " 24  Countries                   872 non-null    object\n",
      "dtypes: bool(1), int64(1), object(23)\n",
      "memory usage: 323.7+ KB\n"
     ]
    }
   ],
   "source": [
    "df.info()"
   ]
  },
  {
   "cell_type": "code",
   "execution_count": 73,
   "id": "cf6f85c5-bd52-4e44-a48c-8dd91a33adb1",
   "metadata": {},
   "outputs": [
    {
     "name": "stdout",
     "output_type": "stream",
     "text": [
      "<class 'pandas.core.frame.DataFrame'>\n",
      "RangeIndex: 1717 entries, 0 to 1716\n",
      "Data columns (total 25 columns):\n",
      " #   Column                      Non-Null Count  Dtype         \n",
      "---  ------                      --------------  -----         \n",
      " 0   NCT Number                  1717 non-null   object        \n",
      " 1   Study Title                 1717 non-null   object        \n",
      " 2   Study URL                   1717 non-null   object        \n",
      " 3   Study Status                1717 non-null   category      \n",
      " 4   Brief Summary               1717 non-null   object        \n",
      " 5   Study Results               1717 non-null   bool          \n",
      " 6   Conditions                  1717 non-null   object        \n",
      " 7   Interventions               1717 non-null   object        \n",
      " 8   Intervention Types          1717 non-null   object        \n",
      " 9   Primary Outcome Measures    1717 non-null   object        \n",
      " 10  Secondary Outcome Measures  1337 non-null   object        \n",
      " 11  Other Outcome Measures      156 non-null    object        \n",
      " 12  Combined Outcome Measures   1717 non-null   object        \n",
      " 13  Sponsor                     1717 non-null   object        \n",
      " 14  Collaborators               558 non-null    object        \n",
      " 15  Sex                         1717 non-null   category      \n",
      " 16  Age                         1717 non-null   object        \n",
      " 17  Phases                      423 non-null    category      \n",
      " 18  Enrollment                  1717 non-null   int64         \n",
      " 19  Study Type                  1717 non-null   category      \n",
      " 20  Start Date                  1717 non-null   datetime64[ns]\n",
      " 21  Completion Date             1717 non-null   datetime64[ns]\n",
      " 22  Last Update Posted          1717 non-null   datetime64[ns]\n",
      " 23  Locations                   1604 non-null   object        \n",
      " 24  Countries                   872 non-null    object        \n",
      "dtypes: bool(1), category(4), datetime64[ns](3), int64(1), object(16)\n",
      "memory usage: 277.7+ KB\n"
     ]
    }
   ],
   "source": [
    "# Readjust data type\n",
    "\n",
    "df['Study Status'] = df['Study Status'].astype('category')\n",
    "df['Enrollment'] = df['Enrollment'].fillna(0).astype(int)\n",
    "df['Start Date'] = pd.to_datetime(df['Start Date'], errors='coerce')\n",
    "df['Completion Date'] = pd.to_datetime(df['Completion Date'], errors='coerce')\n",
    "df['Last Update Posted'] = pd.to_datetime(df['Last Update Posted'], errors='coerce')\n",
    "df['Sex'] = df['Sex'].astype('category')\n",
    "df['Phases'] = df['Phases'].astype('category')\n",
    "df['Study Type'] = df['Study Type'].astype('category')\n",
    "\n",
    "df.info()"
   ]
  },
  {
   "cell_type": "markdown",
   "id": "e6a23697-b5c1-43d9-ab10-f2a4d63dea69",
   "metadata": {},
   "source": [
    "### 3. Univariate Analysis"
   ]
  },
  {
   "cell_type": "markdown",
   "id": "c5ab3b99-e8fa-451e-bc74-7310fa74d894",
   "metadata": {},
   "source": [
    "#### 3-1. 'Study Status'"
   ]
  },
  {
   "cell_type": "code",
   "execution_count": 74,
   "id": "52e14f02-0f8f-4891-b852-4a5610bc3bdd",
   "metadata": {},
   "outputs": [
    {
     "data": {
      "text/plain": [
       "Study Status\n",
       "NOT_YET_RECRUITING          63\n",
       "ENROLLING_BY_INVITATION     10\n",
       "RECRUITING                 210\n",
       "ACTIVE_NOT_RECRUITING       41\n",
       "COMPLETED                  988\n",
       "TERMINATED                 124\n",
       "WITHDRAWN                   68\n",
       "SUSPENDED                    8\n",
       "UNKNOWN                    205\n",
       "Name: count, dtype: int64"
      ]
     },
     "execution_count": 74,
     "metadata": {},
     "output_type": "execute_result"
    }
   ],
   "source": [
    "# Get the value counts\n",
    "\n",
    "study_status_counts = df['Study Status'].value_counts()\n",
    "\n",
    "# Manually sort order\n",
    "\n",
    "custom_order = ['NOT_YET_RECRUITING', 'ENROLLING_BY_INVITATION', 'RECRUITING', 'ACTIVE_NOT_RECRUITING', 'COMPLETED', 'TERMINATED', 'WITHDRAWN', 'SUSPENDED', 'UNKNOWN']\n",
    "\n",
    "study_status_counts = study_status_counts.reindex(custom_order)\n",
    "study_status_counts"
   ]
  },
  {
   "cell_type": "code",
   "execution_count": 75,
   "id": "73626c84-481d-487e-bef8-5f66ee28e2ff",
   "metadata": {},
   "outputs": [
    {
     "name": "stderr",
     "output_type": "stream",
     "text": [
      "/var/folders/jl/01tzrgks3dx461xnmrxt87180000gn/T/ipykernel_45325/3161243292.py:4: FutureWarning: \n",
      "\n",
      "Passing `palette` without assigning `hue` is deprecated and will be removed in v0.14.0. Assign the `x` variable to `hue` and set `legend=False` for the same effect.\n",
      "\n",
      "  sns.barplot(x=study_status_counts.index, y=study_status_counts.values, palette='crest', order=study_status_counts.index)\n"
     ]
    },
    {
     "data": {
      "image/png": "[encoded data removed]",
      "text/plain": [
       "<Figure size 1200x400 with 1 Axes>"
      ]
     },
     "metadata": {},
     "output_type": "display_data"
    }
   ],
   "source": [
    "# Create a bar plot using seaborn\n",
    "\n",
    "plt.figure(figsize=(12,4))\n",
    "sns.barplot(x=study_status_counts.index, y=study_status_counts.values, palette='crest', order=study_status_counts.index)\n",
    "\n",
    "# Add labels and title\n",
    "\n",
    "plt.xlabel('Study Status', fontsize=12)\n",
    "plt.ylabel('Count', fontsize=12)\n",
    "plt.title('Study Status Distribution (Sort by Process)', fontsize=15)\n",
    "\n",
    "# Adjust x labels\n",
    "\n",
    "plt.xticks(rotation=45, ha='right', fontsize=10)\n",
    "\n",
    "plt.show()"
   ]
  },
  {
   "cell_type": "markdown",
   "id": "8866d709-d812-4ee5-988d-46cc05690cdf",
   "metadata": {
    "jp-MarkdownHeadingCollapsed": true
   },
   "source": [
    "#### 3-2. 'Brief Summary'"
   ]
  },
  {
   "cell_type": "markdown",
   "id": "ce55a06c-739f-4030-9369-b4f457b24930",
   "metadata": {
    "jp-MarkdownHeadingCollapsed": true
   },
   "source": [
    "#### 3-3. 'Study Results'"
   ]
  },
  {
   "cell_type": "code",
   "execution_count": 76,
   "id": "2bec3454-3291-43d0-8520-28b5490677cf",
   "metadata": {},
   "outputs": [
    {
     "data": {
      "text/plain": [
       "Study Results\n",
       "False    1399\n",
       "True      318\n",
       "Name: count, dtype: int64"
      ]
     },
     "execution_count": 76,
     "metadata": {},
     "output_type": "execute_result"
    }
   ],
   "source": [
    "df['Study Results'].value_counts()"
   ]
  },
  {
   "cell_type": "markdown",
   "id": "ef88b0f5-9586-4264-a129-f3f1c7887b51",
   "metadata": {
    "jp-MarkdownHeadingCollapsed": true
   },
   "source": [
    "#### 3-4. 'Intervention Types'"
   ]
  },
  {
   "cell_type": "markdown",
   "id": "3381b0e0-08d3-48ed-911b-c3bba118978e",
   "metadata": {},
   "source": [
    "#### 3-5. 'Combined Outcome Measures'"
   ]
  },
  {
   "cell_type": "markdown",
   "id": "2d5f4c05-906c-4709-b1ee-daaefe3f1338",
   "metadata": {},
   "source": [
    "#### 3-6. Sponsor and Collaborators"
   ]
  },
  {
   "cell_type": "markdown",
   "id": "48b9bfd3-2353-4b4e-8d9a-2310d75de4ec",
   "metadata": {},
   "source": [
    "#### 3-7. Sex and Age"
   ]
  },
  {
   "cell_type": "markdown",
   "id": "40a7ad74-3740-4f5c-835f-c57bf021cf80",
   "metadata": {},
   "source": [
    "#### 3-8. Phases and Enrollment"
   ]
  },
  {
   "cell_type": "code",
   "execution_count": 9,
   "id": "2df8588d-31ad-4607-adb0-9a85da0f09d0",
   "metadata": {},
   "outputs": [
    {
     "data": {
      "text/plain": [
       "array(['OTHER', 'DIETARY_SUPPLEMENT', 'DEVICE', 'DRUG',\n",
       "       'OTHER, DIETARY_SUPPLEMENT', 'DRUG, DEVICE', 'OTHER, PROCEDURE',\n",
       "       'OTHER, DEVICE', 'PROCEDURE', 'DIAGNOSTIC_TEST', 'BEHAVIORAL',\n",
       "       'BEHAVIORAL, OTHER', 'DRUG, OTHER, DEVICE',\n",
       "       'DIETARY_SUPPLEMENT, DEVICE', 'DRUG, OTHER',\n",
       "       'PROCEDURE, DIETARY_SUPPLEMENT', 'BEHAVIORAL, DRUG, DEVICE',\n",
       "       'BEHAVIORAL, PROCEDURE', 'BEHAVIORAL, DRUG, PROCEDURE',\n",
       "       'BEHAVIORAL, DEVICE', 'DIAGNOSTIC_TEST, DEVICE', 'DRUG, PROCEDURE',\n",
       "       'COMBINATION_PRODUCT',\n",
       "       'BEHAVIORAL, PROCEDURE, DEVICE, COMBINATION_PRODUCT',\n",
       "       'DIAGNOSTIC_TEST, OTHER', 'COMBINATION_PRODUCT, DRUG, DEVICE',\n",
       "       'COMBINATION_PRODUCT, OTHER', 'DRUG, DIAGNOSTIC_TEST',\n",
       "       'BEHAVIORAL, PROCEDURE, COMBINATION_PRODUCT',\n",
       "       'DRUG, OTHER, DIETARY_SUPPLEMENT, DEVICE', 'PROCEDURE, DEVICE',\n",
       "       'DIAGNOSTIC_TEST, OTHER, DEVICE',\n",
       "       'DIAGNOSTIC_TEST, PROCEDURE, DEVICE', 'BEHAVIORAL, OTHER, DEVICE',\n",
       "       'BIOLOGICAL', 'OTHER, PROCEDURE, DEVICE', 'BEHAVIORAL, DRUG',\n",
       "       'BEHAVIORAL, DIAGNOSTIC_TEST, DEVICE',\n",
       "       'BEHAVIORAL, DIAGNOSTIC_TEST, PROCEDURE', 'PROCEDURE, RADIATION',\n",
       "       'BEHAVIORAL, DIAGNOSTIC_TEST', 'DRUG, PROCEDURE, DEVICE',\n",
       "       'BEHAVIORAL, OTHER, PROCEDURE', 'GENETIC, DIAGNOSTIC_TEST, DEVICE'],\n",
       "      dtype=object)"
      ]
     },
     "execution_count": 9,
     "metadata": {},
     "output_type": "execute_result"
    }
   ],
   "source": [
    "df['Intervention Types'].unique()"
   ]
  },
  {
   "cell_type": "code",
   "execution_count": 10,
   "id": "5d67c4d3-18c8-4a1b-a650-9468ca5d2db2",
   "metadata": {},
   "outputs": [
    {
     "data": {
      "text/plain": [
       "array(['OTHER: Mouth closure',\n",
       "       'DIETARY_SUPPLEMENT: Dietary nitrate|DIETARY_SUPPLEMENT: Placebo',\n",
       "       'DEVICE: ICD|DEVICE: CRT-D', ...,\n",
       "       'DRUG: Lemborexant 5 MG Oral Tablet [Dayvigo] Day 1|DRUG: Lemborexant 5 MG Oral Tablet [Dayvigo] Day 2|DRUG: Placebo Day 1|DRUG: Placebo Day 2',\n",
       "       'BEHAVIORAL: Driving Decision Aid|BEHAVIORAL: Older Drivers Website',\n",
       "       'OTHER: health information prescription'], dtype=object)"
      ]
     },
     "execution_count": 10,
     "metadata": {},
     "output_type": "execute_result"
    }
   ],
   "source": [
    "df['Intervention ']"
   ]
  },
  {
   "cell_type": "code",
   "execution_count": null,
   "id": "3a44cb0d-8739-4136-b137-92517dfa2939",
   "metadata": {},
   "outputs": [],
   "source": []
  }
 ],
 "metadata": {
  "kernelspec": {
   "display_name": "Python 3 (ipykernel)",
   "language": "python",
   "name": "python3"
  },
  "language_info": {
   "codemirror_mode": {
    "name": "ipython",
    "version": 3
   },
   "file_extension": ".py",
   "mimetype": "text/x-python",
   "name": "python",
   "nbconvert_exporter": "python",
   "pygments_lexer": "ipython3",
   "version": "3.12.4"
  }
 },
 "nbformat": 4,
 "nbformat_minor": 5
}
