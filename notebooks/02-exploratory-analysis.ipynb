{
 "cells": [
  {
   "cell_type": "markdown",
   "id": "2f3e6fa4-0202-48e8-9343-03effa0b2960",
   "metadata": {},
   "source": [
    "### 1. Import Libraries and Dataset"
   ]
  },
  {
   "cell_type": "code",
   "execution_count": 61,
   "id": "59f32fad-d696-4adc-b3ba-7cfbe3ce8630",
   "metadata": {},
   "outputs": [],
   "source": [
    "# Import visualization libraries\n",
    "\n",
    "import plotly.express as px # simple and interactive plots\n",
    "import plotly.graph_objects as go # customizable and advanced visualizations\n",
    "import plotly.figure_factory as ff # complex and specialized visualizations\n",
    "import plotly.subplots as make_subplots # function to make subplots in Plotly, make arranging multiple plots together available\n",
    "\n",
    "import matplotlib.pyplot as plt # traditional 2D plotting\n",
    "%matplotlib inline\n",
    "# display plots directly in Jupyter notebook\n",
    "import seaborn as sns # attractive statistical graphics (built on top of Matplotlib)"
   ]
  },
  {
   "cell_type": "code",
   "execution_count": 62,
   "id": "e4a30044-3f82-41f1-8888-3d5e1f19d8f7",
   "metadata": {},
   "outputs": [],
   "source": [
    "# Import data processing libraries\n",
    "\n",
    "import numpy as np\n",
    "import pandas as pd"
   ]
  },
  {
   "cell_type": "code",
   "execution_count": 63,
   "id": "b41a4b4c-3c6e-43c9-8d08-dd553f8803df",
   "metadata": {},
   "outputs": [
    {
     "name": "stdout",
     "output_type": "stream",
     "text": [
      "Requirement already satisfied: ydata-profiling in /opt/anaconda3/lib/python3.12/site-packages (4.10.0)\n",
      "Requirement already satisfied: scipy<1.14,>=1.4.1 in /opt/anaconda3/lib/python3.12/site-packages (from ydata-profiling) (1.13.1)\n",
      "Requirement already satisfied: pandas!=1.4.0,<3,>1.1 in /opt/anaconda3/lib/python3.12/site-packages (from ydata-profiling) (2.2.2)\n",
      "Requirement already satisfied: matplotlib<3.10,>=3.5 in /opt/anaconda3/lib/python3.12/site-packages (from ydata-profiling) (3.8.4)\n",
      "Requirement already satisfied: pydantic>=2 in /opt/anaconda3/lib/python3.12/site-packages (from ydata-profiling) (2.5.3)\n",
      "Requirement already satisfied: PyYAML<6.1,>=5.0.0 in /opt/anaconda3/lib/python3.12/site-packages (from ydata-profiling) (6.0.1)\n",
      "Requirement already satisfied: jinja2<3.2,>=2.11.1 in /opt/anaconda3/lib/python3.12/site-packages (from ydata-profiling) (3.1.4)\n",
      "Requirement already satisfied: visions<0.7.7,>=0.7.5 in /opt/anaconda3/lib/python3.12/site-packages (from visions[type_image_path]<0.7.7,>=0.7.5->ydata-profiling) (0.7.6)\n",
      "Requirement already satisfied: numpy<2.2,>=1.16.0 in /opt/anaconda3/lib/python3.12/site-packages (from ydata-profiling) (1.26.4)\n",
      "Requirement already satisfied: htmlmin==0.1.12 in /opt/anaconda3/lib/python3.12/site-packages (from ydata-profiling) (0.1.12)\n",
      "Requirement already satisfied: phik<0.13,>=0.11.1 in /opt/anaconda3/lib/python3.12/site-packages (from ydata-profiling) (0.12.4)\n",
      "Requirement already satisfied: requests<3,>=2.24.0 in /opt/anaconda3/lib/python3.12/site-packages (from ydata-profiling) (2.32.2)\n",
      "Requirement already satisfied: tqdm<5,>=4.48.2 in /opt/anaconda3/lib/python3.12/site-packages (from ydata-profiling) (4.66.4)\n",
      "Requirement already satisfied: seaborn<0.14,>=0.10.1 in /opt/anaconda3/lib/python3.12/site-packages (from ydata-profiling) (0.13.2)\n",
      "Requirement already satisfied: multimethod<2,>=1.4 in /opt/anaconda3/lib/python3.12/site-packages (from ydata-profiling) (1.12)\n",
      "Requirement already satisfied: statsmodels<1,>=0.13.2 in /opt/anaconda3/lib/python3.12/site-packages (from ydata-profiling) (0.14.2)\n",
      "Requirement already satisfied: typeguard<5,>=3 in /opt/anaconda3/lib/python3.12/site-packages (from ydata-profiling) (4.3.0)\n",
      "Requirement already satisfied: imagehash==4.3.1 in /opt/anaconda3/lib/python3.12/site-packages (from ydata-profiling) (4.3.1)\n",
      "Requirement already satisfied: wordcloud>=1.9.3 in /opt/anaconda3/lib/python3.12/site-packages (from ydata-profiling) (1.9.3)\n",
      "Requirement already satisfied: dacite>=1.8 in /opt/anaconda3/lib/python3.12/site-packages (from ydata-profiling) (1.8.1)\n",
      "Requirement already satisfied: numba<1,>=0.56.0 in /opt/anaconda3/lib/python3.12/site-packages (from ydata-profiling) (0.59.1)\n",
      "Requirement already satisfied: PyWavelets in /opt/anaconda3/lib/python3.12/site-packages (from imagehash==4.3.1->ydata-profiling) (1.5.0)\n",
      "Requirement already satisfied: pillow in /opt/anaconda3/lib/python3.12/site-packages (from imagehash==4.3.1->ydata-profiling) (10.3.0)\n",
      "Requirement already satisfied: MarkupSafe>=2.0 in /opt/anaconda3/lib/python3.12/site-packages (from jinja2<3.2,>=2.11.1->ydata-profiling) (2.1.3)\n",
      "Requirement already satisfied: contourpy>=1.0.1 in /opt/anaconda3/lib/python3.12/site-packages (from matplotlib<3.10,>=3.5->ydata-profiling) (1.2.0)\n",
      "Requirement already satisfied: cycler>=0.10 in /opt/anaconda3/lib/python3.12/site-packages (from matplotlib<3.10,>=3.5->ydata-profiling) (0.11.0)\n",
      "Requirement already satisfied: fonttools>=4.22.0 in /opt/anaconda3/lib/python3.12/site-packages (from matplotlib<3.10,>=3.5->ydata-profiling) (4.51.0)\n",
      "Requirement already satisfied: kiwisolver>=1.3.1 in /opt/anaconda3/lib/python3.12/site-packages (from matplotlib<3.10,>=3.5->ydata-profiling) (1.4.4)\n",
      "Requirement already satisfied: packaging>=20.0 in /opt/anaconda3/lib/python3.12/site-packages (from matplotlib<3.10,>=3.5->ydata-profiling) (23.2)\n",
      "Requirement already satisfied: pyparsing>=2.3.1 in /opt/anaconda3/lib/python3.12/site-packages (from matplotlib<3.10,>=3.5->ydata-profiling) (3.0.9)\n",
      "Requirement already satisfied: python-dateutil>=2.7 in /opt/anaconda3/lib/python3.12/site-packages (from matplotlib<3.10,>=3.5->ydata-profiling) (2.9.0.post0)\n",
      "Requirement already satisfied: llvmlite<0.43,>=0.42.0dev0 in /opt/anaconda3/lib/python3.12/site-packages (from numba<1,>=0.56.0->ydata-profiling) (0.42.0)\n",
      "Requirement already satisfied: pytz>=2020.1 in /opt/anaconda3/lib/python3.12/site-packages (from pandas!=1.4.0,<3,>1.1->ydata-profiling) (2024.1)\n",
      "Requirement already satisfied: tzdata>=2022.7 in /opt/anaconda3/lib/python3.12/site-packages (from pandas!=1.4.0,<3,>1.1->ydata-profiling) (2023.3)\n",
      "Requirement already satisfied: joblib>=0.14.1 in /opt/anaconda3/lib/python3.12/site-packages (from phik<0.13,>=0.11.1->ydata-profiling) (1.4.2)\n",
      "Requirement already satisfied: annotated-types>=0.4.0 in /opt/anaconda3/lib/python3.12/site-packages (from pydantic>=2->ydata-profiling) (0.6.0)\n",
      "Requirement already satisfied: pydantic-core==2.14.6 in /opt/anaconda3/lib/python3.12/site-packages (from pydantic>=2->ydata-profiling) (2.14.6)\n",
      "Requirement already satisfied: typing-extensions>=4.6.1 in /opt/anaconda3/lib/python3.12/site-packages (from pydantic>=2->ydata-profiling) (4.11.0)\n",
      "Requirement already satisfied: charset-normalizer<4,>=2 in /opt/anaconda3/lib/python3.12/site-packages (from requests<3,>=2.24.0->ydata-profiling) (2.0.4)\n",
      "Requirement already satisfied: idna<4,>=2.5 in /opt/anaconda3/lib/python3.12/site-packages (from requests<3,>=2.24.0->ydata-profiling) (3.7)\n",
      "Requirement already satisfied: urllib3<3,>=1.21.1 in /opt/anaconda3/lib/python3.12/site-packages (from requests<3,>=2.24.0->ydata-profiling) (2.2.2)\n",
      "Requirement already satisfied: certifi>=2017.4.17 in /opt/anaconda3/lib/python3.12/site-packages (from requests<3,>=2.24.0->ydata-profiling) (2024.8.30)\n",
      "Requirement already satisfied: patsy>=0.5.6 in /opt/anaconda3/lib/python3.12/site-packages (from statsmodels<1,>=0.13.2->ydata-profiling) (0.5.6)\n",
      "Requirement already satisfied: attrs>=19.3.0 in /opt/anaconda3/lib/python3.12/site-packages (from visions<0.7.7,>=0.7.5->visions[type_image_path]<0.7.7,>=0.7.5->ydata-profiling) (23.1.0)\n",
      "Requirement already satisfied: networkx>=2.4 in /opt/anaconda3/lib/python3.12/site-packages (from visions<0.7.7,>=0.7.5->visions[type_image_path]<0.7.7,>=0.7.5->ydata-profiling) (3.2.1)\n",
      "Requirement already satisfied: six in /opt/anaconda3/lib/python3.12/site-packages (from patsy>=0.5.6->statsmodels<1,>=0.13.2->ydata-profiling) (1.16.0)\n"
     ]
    }
   ],
   "source": [
    "# Import EDA supporting library\n",
    "\n",
    "!pip install ydata-profiling\n",
    "from ydata_profiling import ProfileReport"
   ]
  },
  {
   "cell_type": "code",
   "execution_count": 64,
   "id": "b4b2cb98-6a50-49db-bfaf-40d11f283899",
   "metadata": {},
   "outputs": [],
   "source": [
    "# Import dataset\n",
    "\n",
    "df = pd.read_csv('/Users/ellia.hsieh/Documents/GitHub/strategic-partner-identification/data/02-processed/mapped-sleep-apnea.csv')"
   ]
  },
  {
   "cell_type": "markdown",
   "id": "a7c6f926-25f4-4791-bc55-64b7de9191de",
   "metadata": {},
   "source": [
    "### 2. Data Preprocessing"
   ]
  },
  {
   "cell_type": "code",
   "execution_count": 65,
   "id": "1060f992-7a42-4b03-823f-62347ac3c18d",
   "metadata": {},
   "outputs": [
    {
     "name": "stdout",
     "output_type": "stream",
     "text": [
      "<class 'pandas.core.frame.DataFrame'>\n",
      "RangeIndex: 1717 entries, 0 to 1716\n",
      "Data columns (total 26 columns):\n",
      " #   Column                      Non-Null Count  Dtype \n",
      "---  ------                      --------------  ----- \n",
      " 0   NCT Number                  1717 non-null   object\n",
      " 1   Study Title                 1717 non-null   object\n",
      " 2   Study URL                   1717 non-null   object\n",
      " 3   Study Status                1717 non-null   object\n",
      " 4   Brief Summary               1717 non-null   object\n",
      " 5   Study Results               1717 non-null   bool  \n",
      " 6   Conditions                  1717 non-null   object\n",
      " 7   Interventions               1717 non-null   object\n",
      " 8   Intervention Types          1717 non-null   object\n",
      " 9   Primary Outcome Measures    1717 non-null   object\n",
      " 10  Secondary Outcome Measures  1337 non-null   object\n",
      " 11  Other Outcome Measures      156 non-null    object\n",
      " 12  Combined Outcome Measures   1717 non-null   object\n",
      " 13  Sponsor                     1717 non-null   object\n",
      " 14  Collaborators               558 non-null    object\n",
      " 15  Institution Categories      1717 non-null   object\n",
      " 16  Sex                         1717 non-null   object\n",
      " 17  Age                         1717 non-null   object\n",
      " 18  Phases                      423 non-null    object\n",
      " 19  Enrollment                  1717 non-null   int64 \n",
      " 20  Study Type                  1717 non-null   object\n",
      " 21  Start Date                  1717 non-null   object\n",
      " 22  Completion Date             1717 non-null   object\n",
      " 23  Last Update Posted          1717 non-null   object\n",
      " 24  Locations                   1604 non-null   object\n",
      " 25  Countries                   872 non-null    object\n",
      "dtypes: bool(1), int64(1), object(24)\n",
      "memory usage: 337.2+ KB\n"
     ]
    }
   ],
   "source": [
    "df.info()"
   ]
  },
  {
   "cell_type": "code",
   "execution_count": 66,
   "id": "cf6f85c5-bd52-4e44-a48c-8dd91a33adb1",
   "metadata": {},
   "outputs": [
    {
     "name": "stdout",
     "output_type": "stream",
     "text": [
      "<class 'pandas.core.frame.DataFrame'>\n",
      "RangeIndex: 1717 entries, 0 to 1716\n",
      "Data columns (total 26 columns):\n",
      " #   Column                      Non-Null Count  Dtype         \n",
      "---  ------                      --------------  -----         \n",
      " 0   NCT Number                  1717 non-null   object        \n",
      " 1   Study Title                 1717 non-null   object        \n",
      " 2   Study URL                   1717 non-null   object        \n",
      " 3   Study Status                1717 non-null   category      \n",
      " 4   Brief Summary               1717 non-null   object        \n",
      " 5   Study Results               1717 non-null   bool          \n",
      " 6   Conditions                  1717 non-null   object        \n",
      " 7   Interventions               1717 non-null   object        \n",
      " 8   Intervention Types          1717 non-null   object        \n",
      " 9   Primary Outcome Measures    1717 non-null   object        \n",
      " 10  Secondary Outcome Measures  1337 non-null   object        \n",
      " 11  Other Outcome Measures      156 non-null    object        \n",
      " 12  Combined Outcome Measures   1717 non-null   object        \n",
      " 13  Sponsor                     1717 non-null   object        \n",
      " 14  Collaborators               558 non-null    object        \n",
      " 15  Institution Categories      1717 non-null   object        \n",
      " 16  Sex                         1717 non-null   category      \n",
      " 17  Age                         1717 non-null   object        \n",
      " 18  Phases                      423 non-null    category      \n",
      " 19  Enrollment                  1717 non-null   int64         \n",
      " 20  Study Type                  1717 non-null   category      \n",
      " 21  Start Date                  1717 non-null   datetime64[ns]\n",
      " 22  Completion Date             1717 non-null   datetime64[ns]\n",
      " 23  Last Update Posted          1717 non-null   datetime64[ns]\n",
      " 24  Locations                   1604 non-null   object        \n",
      " 25  Countries                   872 non-null    object        \n",
      "dtypes: bool(1), category(4), datetime64[ns](3), int64(1), object(17)\n",
      "memory usage: 291.2+ KB\n"
     ]
    }
   ],
   "source": [
    "# Readjust data type\n",
    "\n",
    "df['Study Status'] = df['Study Status'].astype('category')\n",
    "df['Enrollment'] = df['Enrollment'].fillna(0).astype(int)\n",
    "df['Start Date'] = pd.to_datetime(df['Start Date'], errors='coerce')\n",
    "df['Completion Date'] = pd.to_datetime(df['Completion Date'], errors='coerce')\n",
    "df['Last Update Posted'] = pd.to_datetime(df['Last Update Posted'], errors='coerce')\n",
    "df['Sex'] = df['Sex'].astype('category')\n",
    "df['Phases'] = df['Phases'].astype('category')\n",
    "df['Study Type'] = df['Study Type'].astype('category')\n",
    "\n",
    "df.info()"
   ]
  },
  {
   "cell_type": "markdown",
   "id": "e6a23697-b5c1-43d9-ab10-f2a4d63dea69",
   "metadata": {},
   "source": [
    "### 3. Univariate Analysis"
   ]
  },
  {
   "cell_type": "markdown",
   "id": "c5ab3b99-e8fa-451e-bc74-7310fa74d894",
   "metadata": {},
   "source": [
    "#### 3-1. 'Study Status'"
   ]
  },
  {
   "cell_type": "code",
   "execution_count": 67,
   "id": "52e14f02-0f8f-4891-b852-4a5610bc3bdd",
   "metadata": {},
   "outputs": [
    {
     "data": {
      "text/plain": [
       "Study Status\n",
       "NOT_YET_RECRUITING          63\n",
       "ENROLLING_BY_INVITATION     10\n",
       "RECRUITING                 210\n",
       "ACTIVE_NOT_RECRUITING       41\n",
       "COMPLETED                  988\n",
       "TERMINATED                 124\n",
       "WITHDRAWN                   68\n",
       "SUSPENDED                    8\n",
       "UNKNOWN                    205\n",
       "Name: count, dtype: int64"
      ]
     },
     "execution_count": 67,
     "metadata": {},
     "output_type": "execute_result"
    }
   ],
   "source": [
    "# Get the value counts\n",
    "\n",
    "study_status_counts = df['Study Status'].value_counts()\n",
    "\n",
    "# Manually sort order\n",
    "\n",
    "custom_order = ['NOT_YET_RECRUITING', 'ENROLLING_BY_INVITATION', 'RECRUITING', 'ACTIVE_NOT_RECRUITING', 'COMPLETED', 'TERMINATED', 'WITHDRAWN', 'SUSPENDED', 'UNKNOWN']\n",
    "\n",
    "study_status_counts = study_status_counts.reindex(custom_order)\n",
    "study_status_counts"
   ]
  },
  {
   "cell_type": "code",
   "execution_count": 68,
   "id": "73626c84-481d-487e-bef8-5f66ee28e2ff",
   "metadata": {},
   "outputs": [],
   "source": [
    "# # Create a bar plot using seaborn\n",
    "\n",
    "# plt.figure(figsize=(12,4))\n",
    "# sns.barplot(x=study_status_counts.index, y=study_status_counts.values, palette='crest', order=study_status_counts.index)\n",
    "\n",
    "# # Add labels and title\n",
    "\n",
    "# plt.xlabel('Study Status', fontsize=12)\n",
    "# plt.ylabel('Count', fontsize=12)\n",
    "# plt.title('Study Status Distribution (Sort by Process)', fontsize=15)\n",
    "\n",
    "# # Adjust x labels\n",
    "\n",
    "# plt.xticks(rotation=45, ha='right', fontsize=10)\n",
    "\n",
    "# plt.show()"
   ]
  },
  {
   "cell_type": "markdown",
   "id": "8866d709-d812-4ee5-988d-46cc05690cdf",
   "metadata": {},
   "source": [
    "#### 3-2. 'Brief Summary'"
   ]
  },
  {
   "cell_type": "code",
   "execution_count": 69,
   "id": "b1d3c1ab-451b-4c4e-a5e9-f561ec22773c",
   "metadata": {},
   "outputs": [
    {
     "data": {
      "text/plain": [
       "array(['Mouth breathing is associated with increased airway resistance, pharyngeal collapsibility, and obstructive sleep apnea (OSA) severity. It is commonly believed that closing the mouth can mitigate the negative effects of mouth breathing during sleep. However, we propose that mouth breathing serves as an essential route bypassing obstruction along the nasal route (e.g., velopharynx). The present study investigates the role of mouth breathing as an essential route in some OSA patients and its association with upper airway anatomical factors.\\n\\nParticipants underwent drug-induced sleep endoscopy (DISE) with simultaneous pneumotach airflow measurements through the nose and mouth separately. During the DISE procedure, alternating mouth closure (every other breath) cycles were performed during flow-limited breathing.\\n\\nWe evaluated the overall effect mouth closure on inspiratory airflow, and the change in inspiratory airflow with mouth closure across three mouth-breathing quantiles. We also evaluated if velopharyngeal obstruction was associated with mouth breathing and a negative airflow response to mouth closure.',\n",
       "       'Acute consumption of dietary nitrate (as beetroot juice) has been shown to decrease systemic blood pressure in multiple populations as well as increase organ perfusion in areas of interest such as the pancreas and brain. Obstructive sleep apnoea syndrome (OSAS) is associated with high blood pressure, dysglycaemia and impaired vigilance. The effect of dietary nitrate in OSAS has not been reported.',\n",
       "       'The purpose of this study is to report the incidence of ventricular arrhythmias correlated to the SAS and to focus on the interest of diagnosing Sleep-disorders breathing in ICD patients. This diagnosis will be assessed by an ambulatory nasal pressure recording with portable multi-channel recorder associated to a complete SAS related symptoms questionnaire.This clinical trial will be the first step to gather information about the suspected sleep relation between ventricular arrhythmias and Sleep breathing disorders, in order to improve the management and treatment of such arrhythmias in next generation of defibrillators which will integrate a minute ventilation sensor able to monitor breathing.',\n",
       "       ...,\n",
       "       'The goal of this randomized, placebo-controlled, double-blind, crossover trial (1-week wash out period) is to compare 1 night of 5 mg Lemborexant to placebo administered before sleep in 20 moderate to severe OSA patients with low arousal threshold\\n\\nThe main questions it aims to answer are:\\n\\n1. The effect of Lemborexant on apnea/hypopnea index (AHI) in moderate-to-severe OSA patients with low arousal threshold.\\n2. The effect of Lemborexant on the following parameters in moderate-to-severe OSA patients with low arousal threshold.\\n\\n   * Arousal threshold\\n   * Mean and nadir oxygen saturation\\n   * Sleep latency\\n   * Sleep efficiency\\n   * Wake after sleep onset (WASO)\\n   * Percentage of time spent in NREM stage 1-3 and REM stage\\n   * Stanford Sleepiness Scale Questionnaire in the morning\\n   * The Oxford Sleep Resistance Test (OSLER) test\\n\\nParticipants will\\n\\n* complete two overnight in-laboratory polysomnography (1-week washout), with esophageal pressure catheter placement and standard polysomnography monitoring\\n* complete the Stanford Sleepiness Scale Questionnaire and OSLER test in the morning of the two overnight test\\n\\nResearchers will compare with the placebo group to see if there is a difference in AHI',\n",
       "       'This Stage II randomized, controlled, longitudinal trial seeks to assess the acceptability, feasibility, and effects of a driving decision aid use among geriatric patients and providers. This multi-site trial will (1) test the driving decision aid (DDA) in improving decision making and quality (knowledge, decision conflict, values concordance and behavior intent); and (2) determine its effects on specific subpopulations of older drivers (stratified for cognitive function, decisional capacity, and attitudinally readiness for a mobility transition). The overarching hypotheses are that the DDA will help older adults make high-quality decisions, which will mitigate the negative psychosocial impacts of driving reduction, and that optimal DDA use will target certain populations and settings.',\n",
       "       'The specific aim of this proposed pilot study is to compare two standardized processes (paper and electronic) to deliver a customized MedlinePlus health information prescription.'],\n",
       "      dtype=object)"
      ]
     },
     "execution_count": 69,
     "metadata": {},
     "output_type": "execute_result"
    }
   ],
   "source": [
    "df['Brief Summary'].unique()"
   ]
  },
  {
   "cell_type": "markdown",
   "id": "ce55a06c-739f-4030-9369-b4f457b24930",
   "metadata": {},
   "source": [
    "#### 3-3. 'Study Results'"
   ]
  },
  {
   "cell_type": "code",
   "execution_count": 70,
   "id": "2bec3454-3291-43d0-8520-28b5490677cf",
   "metadata": {},
   "outputs": [
    {
     "data": {
      "text/plain": [
       "Study Results\n",
       "False    1399\n",
       "True      318\n",
       "Name: count, dtype: int64"
      ]
     },
     "execution_count": 70,
     "metadata": {},
     "output_type": "execute_result"
    }
   ],
   "source": [
    "df['Study Results'].value_counts()"
   ]
  },
  {
   "cell_type": "markdown",
   "id": "ef88b0f5-9586-4264-a129-f3f1c7887b51",
   "metadata": {},
   "source": [
    "#### 3-4. 'Intervention', 'Intervention Types'"
   ]
  },
  {
   "cell_type": "code",
   "execution_count": 71,
   "id": "e5349ef3-81cb-47bb-8e4d-12abfeed30fd",
   "metadata": {},
   "outputs": [
    {
     "data": {
      "text/plain": [
       "Intervention Types\n",
       "DEVICE                                                785\n",
       "DRUG                                                  241\n",
       "BEHAVIORAL                                            142\n",
       "OTHER                                                 139\n",
       "PROCEDURE                                             121\n",
       "DIAGNOSTIC_TEST                                        51\n",
       "OTHER, DEVICE                                          31\n",
       "BEHAVIORAL, DEVICE                                     28\n",
       "DEVICE, DRUG                                           26\n",
       "BEHAVIORAL, OTHER                                      16\n",
       "OTHER, DRUG                                            16\n",
       "DIAGNOSTIC_TEST, DEVICE                                14\n",
       "OTHER, DIAGNOSTIC_TEST                                 12\n",
       "DEVICE, PROCEDURE                                      11\n",
       "BEHAVIORAL, PROCEDURE                                   9\n",
       "OTHER, PROCEDURE                                        8\n",
       "DRUG, PROCEDURE                                         7\n",
       "DIETARY_SUPPLEMENT                                      6\n",
       "OTHER, BEHAVIORAL                                       5\n",
       "BEHAVIORAL, DRUG                                        5\n",
       "BEHAVIORAL, DEVICE, DRUG                                4\n",
       "OTHER, DEVICE, DRUG                                     3\n",
       "OTHER, DEVICE, PROCEDURE                                3\n",
       "BIOLOGICAL                                              3\n",
       "OTHER, DIETARY_SUPPLEMENT                               3\n",
       "BEHAVIORAL, OTHER, DEVICE                               3\n",
       "DIAGNOSTIC_TEST, DRUG                                   2\n",
       "BEHAVIORAL, DIAGNOSTIC_TEST                             2\n",
       "COMBINATION_PRODUCT                                     2\n",
       "BEHAVIORAL, COMBINATION_PRODUCT, PROCEDURE              1\n",
       "DIETARY_SUPPLEMENT, PROCEDURE                           1\n",
       "BEHAVIORAL, OTHER, PROCEDURE                            1\n",
       "OTHER, DIAGNOSTIC_TEST, DRUG                            1\n",
       "PROCEDURE, DEVICE, DRUG                                 1\n",
       "DIETARY_SUPPLEMENT, DEVICE                              1\n",
       "RADIATION, PROCEDURE                                    1\n",
       "BEHAVIORAL, DIAGNOSTIC_TEST, PROCEDURE                  1\n",
       "BEHAVIORAL, DIAGNOSTIC_TEST, DEVICE                     1\n",
       "OTHER, DIAGNOSTIC_TEST, DEVICE, BEHAVIORAL              1\n",
       "OTHER, DIETARY_SUPPLEMENT, DEVICE, DRUG                 1\n",
       "BEHAVIORAL, DRUG, PROCEDURE                             1\n",
       "BEHAVIORAL, COMBINATION_PRODUCT, DEVICE, PROCEDURE      1\n",
       "OTHER, DEVICE, BEHAVIORAL                               1\n",
       "DIAGNOSTIC_TEST, DEVICE, PROCEDURE                      1\n",
       "OTHER, DIAGNOSTIC_TEST, DEVICE                          1\n",
       "DEVICE, COMBINATION_PRODUCT, DRUG                       1\n",
       "OTHER, COMBINATION_PRODUCT                              1\n",
       "DIAGNOSTIC_TEST, GENETIC, DEVICE                        1\n",
       "Name: count, dtype: int64"
      ]
     },
     "execution_count": 71,
     "metadata": {},
     "output_type": "execute_result"
    }
   ],
   "source": [
    "df['Intervention Types'].value_counts()"
   ]
  },
  {
   "cell_type": "code",
   "execution_count": 72,
   "id": "2ef13b12-44ab-42a4-9941-912cd573db2a",
   "metadata": {},
   "outputs": [
    {
     "name": "stdout",
     "output_type": "stream",
     "text": [
      "Intervention Types\n",
      "DEVICE                 919\n",
      "DRUG                   309\n",
      "OTHER                  246\n",
      "BEHAVIORAL             222\n",
      "PROCEDURE              168\n",
      "DIAGNOSTIC_TEST         88\n",
      "DIETARY_SUPPLEMENT      12\n",
      "COMBINATION_PRODUCT      6\n",
      "BIOLOGICAL               3\n",
      "RADIATION                1\n",
      "GENETIC                  1\n",
      "Name: count, dtype: int64\n"
     ]
    }
   ],
   "source": [
    "intv_types_exploded = df['Intervention Types'].str.split(', ').explode()\n",
    "intv_types_counts = intv_types_exploded.value_counts(ascending=False)\n",
    "\n",
    "print(intv_types_counts) # clinical trials numbers for each interverence"
   ]
  },
  {
   "cell_type": "code",
   "execution_count": 73,
   "id": "141b84b6-dcb6-40d8-8f03-e880534477d0",
   "metadata": {},
   "outputs": [
    {
     "data": {
      "image/png": "[encoded data removed]",
      "text/plain": [
       "<Figure size 800x600 with 1 Axes>"
      ]
     },
     "metadata": {},
     "output_type": "display_data"
    }
   ],
   "source": [
    "# Create a figure with specified size\n",
    "\n",
    "plt.figure(figsize=(8,6))\n",
    "\n",
    "# Plot the vertical bar chart with a color scheme\n",
    "\n",
    "bars = plt.bar(intv_types_counts.index, intv_types_counts.values, color='skyblue')\n",
    "\n",
    "# Add labels and title with a slightly larger font for clarity\n",
    "\n",
    "plt.ylabel('Count', fontsize=12)\n",
    "plt.xlabel('Intervention Type', fontsize=12)\n",
    "plt.title('Number of Clinical Trials by Intervention Type', fontsize=14)\n",
    "\n",
    "# Rotate the x-axis labels for better readability\n",
    "\n",
    "plt.xticks(rotation=45, ha='right', fontsize=10)\n",
    "\n",
    "# Add the count on top of each bar\n",
    "\n",
    "for bar in bars:\n",
    "    yval = bar.get_height()\n",
    "    plt.text(bar.get_x() + bar.get_width()/2, yval + 0.5, int(yval), ha='center', va='bottom', fontsize=10)\n",
    "\n",
    "# Adjust the layout to make sure everything fits well\n",
    "\n",
    "plt.tight_layout()\n",
    "\n",
    "# Show the plot\n",
    "\n",
    "plt.show()"
   ]
  },
  {
   "cell_type": "markdown",
   "id": "74d04029-57f0-4478-927e-0b5e5ac5533e",
   "metadata": {},
   "source": [
    "Seems like there are misclassificaions under 'OTHER', will adjust them manually back in `01-data-preprocessing.ipynb`"
   ]
  },
  {
   "cell_type": "markdown",
   "id": "3381b0e0-08d3-48ed-911b-c3bba118978e",
   "metadata": {},
   "source": [
    "#### 3-5. 'Combined Outcome Measures'"
   ]
  },
  {
   "cell_type": "markdown",
   "id": "2d5f4c05-906c-4709-b1ee-daaefe3f1338",
   "metadata": {},
   "source": [
    "#### 3-6. 'Institution Categories'"
   ]
  },
  {
   "cell_type": "code",
   "execution_count": 74,
   "id": "62561ff9-8a0d-4683-91cf-cd09590ed12e",
   "metadata": {
    "scrolled": true
   },
   "outputs": [
    {
     "data": {
      "text/plain": [
       "Institution Categories\n",
       "Research Institute                                                               571\n",
       "Healthcare Provider                                                              387\n",
       "Solution Provider                                                                212\n",
       "Healthcare Provider, Research Institute                                           82\n",
       "Pharma                                                                            65\n",
       "Research Institute, Healthcare Provider                                           49\n",
       "Individual                                                                        41\n",
       "Research Institute, Solution Provider                                             32\n",
       "Solution Provider, Healthcare Provider                                            28\n",
       "Healthcare Provider, Solution Provider                                            23\n",
       "Government Agency                                                                 20\n",
       "Research Institute, Foundation                                                    19\n",
       "Solution Provider, Research Institute                                             15\n",
       "Consulting & CRO                                                                  15\n",
       "Research Institute, Pharma                                                        12\n",
       "Healthcare Provider, Government Agency                                            11\n",
       "Individual, Research Institute                                                    10\n",
       "Foundation                                                                        10\n",
       "Research Institute, Government Agency                                              8\n",
       "Healthcare Provider, Foundation                                                    7\n",
       "Healthcare Provider, Pharma                                                        6\n",
       "Foundation, Research Institute                                                     5\n",
       "Solution Provider, Consulting & CRO                                                5\n",
       "Healthcare Provider, Solution Provider, Research Institute                         3\n",
       "Healthcare Provider, Research Institute, Consulting & CRO                          2\n",
       "Pharma, Consulting & CRO                                                           2\n",
       "Research Institute, Solution Provider, Government Agency                           2\n",
       "Research Institute, Healthcare Provider, Solution Provider                         2\n",
       "Research Institute, Consulting & CRO                                               2\n",
       "Foundation, Healthcare Provider                                                    2\n",
       "Individual, Solution Provider                                                      2\n",
       "Solution Provider, Research Institute, Healthcare Provider                         2\n",
       "Research Institute, Healthcare Provider, Government Agency                         2\n",
       "Healthcare Provider, Research Institute, Pharma                                    2\n",
       "Government Agency, Healthcare Provider                                             2\n",
       "Healthcare Provider, Research Institute, Solution Provider                         2\n",
       "Research Institute, Consulting & CRO, Pharma                                       2\n",
       "Research Institute, Solution Provider, Healthcare Provider                         2\n",
       "Government Agency, Research Institute                                              2\n",
       "Healthcare Provider, Consulting & CRO                                              2\n",
       "Individual, Healthcare Provider                                                    2\n",
       "Healthcare Provider, Solution Provider, Foundation                                 2\n",
       "Healthcare Provider, Research Institute, Foundation, Government Agency             1\n",
       "Research Institute, Pharma, Healthcare Provider                                    1\n",
       "Healthcare Provider, Research Institute, Pharma, Consulting & CRO                  1\n",
       "Individual, Research Institute, Foundation                                         1\n",
       "Healthcare Provider, Government Agency, Solution Provider                          1\n",
       "Solution Provider, Foundation                                                      1\n",
       "Solution Provider, Individual, Government Agency                                   1\n",
       "Individual, Healthcare Provider, Research Institute                                1\n",
       "Individual, Research Institute, Pharma                                             1\n",
       "Individual, Research Institute, Healthcare Provider, Solution Provider             1\n",
       "Research Institute, Foundation, Government Agency                                  1\n",
       "Research Institute, Individual                                                     1\n",
       "Healthcare Provider, Pharma, Foundation, Consulting & CRO, Government Agency       1\n",
       "Research Institute, Healthcare Provider, Consulting & CRO                          1\n",
       "Research Institute, Foundation, Pharma                                             1\n",
       "Individual, Research Institute, Solution Provider                                  1\n",
       "Research Institute, Solution Provider, Foundation, Consulting & CRO                1\n",
       "Healthcare Provider, Foundation, Research Institute                                1\n",
       "Research Institute, Consulting & CRO, Solution Provider                            1\n",
       "Research Institute, Foundation, Healthcare Provider                                1\n",
       "Healthcare Provider, Foundation, Solution Provider                                 1\n",
       "Healthcare Provider, Government Agency, Solution Provider, Foundation              1\n",
       "Healthcare Provider, Consulting & CRO, Research Institute                          1\n",
       "Healthcare Provider, Solution Provider, Consulting & CRO                           1\n",
       "Government Agency, Research Institute, Healthcare Provider                         1\n",
       "Government Agency, Consulting & CRO, Solution Provider                             1\n",
       "Solution Provider, Research Institute, Government Agency, Healthcare Provider      1\n",
       "Consulting & CRO, Healthcare Provider                                              1\n",
       "Individual, Pharma                                                                 1\n",
       "Consulting & CRO, Government Agency                                                1\n",
       "Healthcare Provider, Research Institute, Government Agency                         1\n",
       "Healthcare Provider, Foundation, Government Agency                                 1\n",
       "Healthcare Provider, Pharma, Research Institute                                    1\n",
       "Healthcare Provider, Research Institute, Foundation                                1\n",
       "Healthcare Provider, Research Institute, Solution Provider, Foundation             1\n",
       "Solution Provider, Consulting & CRO, Healthcare Provider                           1\n",
       "Healthcare Provider, Pharma, Solution Provider, Research Institute                 1\n",
       "Consulting & CRO, Research Institute, Healthcare Provider                          1\n",
       "Consulting & CRO, Pharma                                                           1\n",
       "Solution Provider, Healthcare Provider, Research Institute                         1\n",
       "Healthcare Provider, Solution Provider, Research Institute, Consulting & CRO       1\n",
       "Healthcare Provider, Government Agency, Research Institute                         1\n",
       "Solution Provider, Pharma                                                          1\n",
       "Foundation, Solution Provider                                                      1\n",
       "Pharma, Research Institute, Healthcare Provider                                    1\n",
       "Name: count, dtype: int64"
      ]
     },
     "execution_count": 74,
     "metadata": {},
     "output_type": "execute_result"
    }
   ],
   "source": [
    "df['Institution Categories'].value_counts()"
   ]
  },
  {
   "cell_type": "code",
   "execution_count": 75,
   "id": "495bf9b7-4077-4df9-ad02-eb09a53d612b",
   "metadata": {},
   "outputs": [
    {
     "data": {
      "text/plain": [
       "Institution Categories\n",
       "Research Institute     857\n",
       "Healthcare Provider    649\n",
       "Solution Provider      351\n",
       "Pharma                 100\n",
       "Individual              63\n",
       "Foundation              60\n",
       "Government Agency       60\n",
       "Consulting & CRO        44\n",
       "Name: count, dtype: int64"
      ]
     },
     "execution_count": 75,
     "metadata": {},
     "output_type": "execute_result"
    }
   ],
   "source": [
    "inst_cat_exploded = df['Institution Categories'].str.split(', ').explode()\n",
    "inst_cat_counts = inst_cat_exploded.value_counts(ascending=False)\n",
    "\n",
    "inst_cat_counts"
   ]
  },
  {
   "cell_type": "code",
   "execution_count": 76,
   "id": "1fb25329-4d3f-47d5-a68f-df702a75c6d3",
   "metadata": {},
   "outputs": [
    {
     "name": "stdout",
     "output_type": "stream",
     "text": [
      "Intervention Types\n",
      "DEVICE                 919\n",
      "DRUG                   309\n",
      "OTHER                  246\n",
      "BEHAVIORAL             222\n",
      "PROCEDURE              168\n",
      "DIAGNOSTIC_TEST         88\n",
      "DIETARY_SUPPLEMENT      12\n",
      "COMBINATION_PRODUCT      6\n",
      "BIOLOGICAL               3\n",
      "RADIATION                1\n",
      "GENETIC                  1\n",
      "Name: count, dtype: int64\n"
     ]
    }
   ],
   "source": [
    "intv_types_exploded = df['Intervention Types'].str.split(', ').explode()\n",
    "intv_types_counts = intv_types_exploded.value_counts(ascending=False)\n",
    "\n",
    "print(intv_types_counts) # clinical trials numbers for each interverence"
   ]
  },
  {
   "cell_type": "markdown",
   "id": "48b9bfd3-2353-4b4e-8d9a-2310d75de4ec",
   "metadata": {},
   "source": [
    "#### 3-7. Sex and Age"
   ]
  },
  {
   "cell_type": "markdown",
   "id": "40a7ad74-3740-4f5c-835f-c57bf021cf80",
   "metadata": {},
   "source": [
    "#### 3-8. Phases and Enrollment"
   ]
  },
  {
   "cell_type": "code",
   "execution_count": 77,
   "id": "6597a762-9398-401f-a223-b08f55ae9df4",
   "metadata": {},
   "outputs": [
    {
     "data": {
      "text/plain": [
       "Index(['NCT Number', 'Study Title', 'Study URL', 'Study Status',\n",
       "       'Brief Summary', 'Study Results', 'Conditions', 'Interventions',\n",
       "       'Intervention Types', 'Primary Outcome Measures',\n",
       "       'Secondary Outcome Measures', 'Other Outcome Measures',\n",
       "       'Combined Outcome Measures', 'Sponsor', 'Collaborators',\n",
       "       'Institution Categories', 'Sex', 'Age', 'Phases', 'Enrollment',\n",
       "       'Study Type', 'Start Date', 'Completion Date', 'Last Update Posted',\n",
       "       'Locations', 'Countries'],\n",
       "      dtype='object')"
      ]
     },
     "execution_count": 77,
     "metadata": {},
     "output_type": "execute_result"
    }
   ],
   "source": [
    "df.columns"
   ]
  },
  {
   "cell_type": "code",
   "execution_count": null,
   "id": "3a44cb0d-8739-4136-b137-92517dfa2939",
   "metadata": {},
   "outputs": [],
   "source": []
  }
 ],
 "metadata": {
  "kernelspec": {
   "display_name": "Python 3 (ipykernel)",
   "language": "python",
   "name": "python3"
  },
  "language_info": {
   "codemirror_mode": {
    "name": "ipython",
    "version": 3
   },
   "file_extension": ".py",
   "mimetype": "text/x-python",
   "name": "python",
   "nbconvert_exporter": "python",
   "pygments_lexer": "ipython3",
   "version": "3.12.4"
  }
 },
 "nbformat": 4,
 "nbformat_minor": 5
}
